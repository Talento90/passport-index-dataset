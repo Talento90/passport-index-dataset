{
 "cells": [
  {
   "cell_type": "markdown",
   "metadata": {},
   "source": [
    "# Generate Passport Index datasets\n",
    "* Data by Passport Index 2024: https://www.passportindex.org/\n",
    "* In both tidy and matrix formats\n",
    "* Using ISO-2, ISO-3, and full country names"
   ]
  },
  {
   "cell_type": "code",
   "execution_count": 15,
   "metadata": {},
   "outputs": [],
   "source": [
    "import pandas as pd\n",
    "import json\n",
    "import time\n",
    "\n",
    "# Load tqdm!\n",
    "from tqdm import tqdm\n",
    "tqdm.pandas()"
   ]
  },
  {
   "cell_type": "markdown",
   "metadata": {},
   "source": [
    "### In your browser,\n",
    "\n",
    "1. Navigate to https://www.passportindex.org/comparebyPassport.php?p1=sa&y1=2024\n",
    "1. Open Dev tools > Network\n",
    "1. Force-reload the page (e.g. Cmd+Shift+R)\n",
    "1. Find a POST request to *compare2.php*, right-click, and select 'Copy Value' -> 'Copy as cURL'\n",
    "1. Paste below"
   ]
  },
  {
   "cell_type": "code",
   "execution_count": 31,
   "metadata": {},
   "outputs": [],
   "source": [
    "curl_command = \"\"\"\n",
    "curl 'https://www.passportindex.org/incl/compare2.php' --compressed -X POST -H 'User-Agent: Mozilla/5.0 (Macintosh; Intel Mac OS X 10.15; rv:131.0) Gecko/20100101 Firefox/131.0' -H 'Accept: */*' -H 'Accept-Language: en-GB,en;q=0.5' -H 'Accept-Encoding: gzip, deflate, br, zstd' -H 'Referer: https://www.passportindex.org/comparebyPassport.php' -H 'Origin: https://www.passportindex.org' -H 'DNT: 1' -H 'Sec-GPC: 1' -H 'Connection: keep-alive' -H 'Cookie: PHPSESSID=0833ebcdbd2b18a09ae244ed8b0328e8; _ga_7Z48X951ET=GS1.1.1730155778.2.0.1730155778.0.0.0; _ga=GA1.1.982642551.1730071472; cf_clearance=hxW2S_juEuXLOaVfwWLOW_hScUPDbo_8yjxFbLDHQqg-1730155777-1.2.1.1-sRylwO21ujmRJ.eGhxHy39sinhjvrUgGY8FMu2YeJEwH776zg6gNCxBN6i93_MT9Ua1NoVqYaDroz59RZoIcWoxmUl81FBRSS2DkDl7adNr.l.L4ILP2tf2Nd6MO7KIB13VigvcKAF6qyPmWWsJ9FX3eJfqqrW8n6QphUj.6SR3Xp5RR0YrEg_mBwehfZTJ0pGByMtnnNKdKrr8jrMow4s2haB3pCZSO17IfJh1l1TuZ0Yjf8Iiuic8jy_sDTwHqJco1YmPdMrfZ4NTal6zjg1KBn534Pbv0jHEnja1.VI1lK_FyW3sdYJKzLxpt4sg6tIUrjuwgUuZ_5FJFmsd36vr8fPTYfBp29Z846CAVQOk' -H 'Sec-Fetch-Dest: empty' -H 'Sec-Fetch-Mode: no-cors' -H 'Sec-Fetch-Site: same-origin' -H 'TE: trailers' -H 'Content-Type: application/x-www-form-urlencoded; charset=UTF-8' -H 'X-Requested-With: XMLHttpRequest' -H 'Priority: u=4' -H 'Pragma: no-cache' -H 'Cache-Control: no-cache' --data-raw 'compare=3&year=2024&cc=sa&csrf_token=6f6e2a012b7590dbccc88fd55fdb08e846178f99da813fc2df0acad2f8b09a61'\n",
    "\"\"\""
   ]
  },
  {
   "cell_type": "code",
   "execution_count": 32,
   "metadata": {},
   "outputs": [],
   "source": [
    "# Read all country codes\n",
    "\n",
    "country_data = (\n",
    "    pd.read_csv(\n",
    "        'https://gist.githubusercontent.com/ilyankou/b2580c632bdea4af2309dcaa69860013/raw/420fb417bcd17d833156efdf64ce8a1c3ceb2691/country-codes',\n",
    "        dtype=str\n",
    "    )\n",
    "    .fillna('NA')\n",
    ")"
   ]
  },
  {
   "cell_type": "code",
   "execution_count": 33,
   "metadata": {},
   "outputs": [],
   "source": [
    "def get_data(country_code):\n",
    "\n",
    "    time.sleep(6.1)\n",
    "\n",
    "    curl_command_ = (curl_command\n",
    "                     .replace('curl ', 'curl -s ')\n",
    "                     .replace(', br, zstd', '')\n",
    "                     .replace('cc=sa', f'cc={str.lower(country_code)}')\n",
    "                    )\n",
    "\n",
    "    res = !{curl_command_}\n",
    "    return json.loads(res[0])"
   ]
  },
  {
   "cell_type": "code",
   "execution_count": 34,
   "metadata": {},
   "outputs": [
    {
     "name": "stderr",
     "output_type": "stream",
     "text": [
      "100%|█████████████████████████████████████████| 199/199 [21:11<00:00,  6.39s/it]\n"
     ]
    }
   ],
   "source": [
    "country_data['travel'] = country_data.ISO2.progress_apply(get_data)"
   ]
  },
  {
   "cell_type": "markdown",
   "metadata": {},
   "source": [
    "## Get data from PassportIndex"
   ]
  },
  {
   "cell_type": "code",
   "execution_count": 35,
   "metadata": {},
   "outputs": [],
   "source": [
    "assert country_data['travel'].isna().sum() == 0, \\\n",
    "    f\"Didn't fetch {country_data['travel'].isna().sum()} rows!\""
   ]
  },
  {
   "cell_type": "markdown",
   "metadata": {},
   "source": [
    "## Clean up the data"
   ]
  },
  {
   "cell_type": "code",
   "execution_count": 51,
   "metadata": {},
   "outputs": [],
   "source": [
    "obj = {}\n",
    "\n",
    "for passport in country_data.ISO2.tolist():\n",
    "    \n",
    "    # Add passport to the object\n",
    "    if passport not in obj:\n",
    "        obj[passport] = {}\n",
    "    \n",
    "    # Add destinations for the given passport\n",
    "    for dest in country_data.query(f'ISO2 == \"{passport}\"').iloc[0]['travel']:\n",
    "        \n",
    "        text = dest['text'].lower()\n",
    "        res = ''\n",
    "        \n",
    "        # ** Visa required, incl Cuba's tourist card or China's Exit Entry Permit for Macau/HK **\n",
    "        if text == 'visa required' or text == 'tourist card' or text == 'exit-entry permit':\n",
    "            res = 'visa required'\n",
    "        \n",
    "        # ** Visa on arrival **\n",
    "        elif 'visa on arrival' in text:\n",
    "            res = 'visa on arrival'\n",
    "            \n",
    "        # ** Covid-19 ban ** \n",
    "        elif text == 'covid-19 ban':\n",
    "            res = 'covid ban'\n",
    "            \n",
    "        # ** Visa-free, incl. Seychelles' tourist registration **\n",
    "        elif 'visa-free' in text or 'tourist registration' in text or 'visa waiver' in text:\n",
    "            res = dest['dur'] if dest['dur'] != '' else 'visa free'\n",
    "            \n",
    "        # ** eVisas, incl eVisitors (Australia), eTourist cards (Suriname),\n",
    "        # eTA (US), and pre-enrollment (Ivory Coast), or EVW (UK) **\n",
    "        elif 'evis' in text or 'etourist' in text or text == 'eta' or text == 'pre-enrollment' or text == 'evw':\n",
    "            res = 'e-visa'\n",
    "            \n",
    "        # ** No admission, including Trump ban **\n",
    "        elif text == 'trump ban' or text == 'not admitted':\n",
    "            res = 'no admission'\n",
    "\n",
    "        elif 'arrival card' in text or 'e-ticket' in text:\n",
    "            res = 'visa free'\n",
    "        \n",
    "        # Update the result!\n",
    "        obj[passport][ dest['code'] ] = res if res != '' else dest['text']"
   ]
  },
  {
   "cell_type": "code",
   "execution_count": 52,
   "metadata": {},
   "outputs": [
    {
     "name": "stdout",
     "output_type": "stream",
     "text": [
      "0 AFG\n",
      "1 ALB\n",
      "2 DZA\n",
      "3 AND\n",
      "4 AGO\n"
     ]
    }
   ],
   "source": [
    "for x, y in country_data.head(5).iterrows():\n",
    "    print(x, y['ISO3'])"
   ]
  },
  {
   "cell_type": "markdown",
   "metadata": {},
   "source": [
    "## Save"
   ]
  },
  {
   "cell_type": "code",
   "execution_count": 53,
   "metadata": {},
   "outputs": [],
   "source": [
    "# ISO-2: Matrix\n",
    "matrix = pd.DataFrame(obj).T.fillna(-1)\n",
    "matrix.to_csv('passport-index-matrix-iso2.csv', index_label='Passport')\n",
    "\n",
    "# ISO-2: Tidy\n",
    "matrix.stack().to_csv(\n",
    "    'passport-index-tidy-iso2.csv',\n",
    "    index_label=['Passport', 'Destination'],\n",
    "    header=['Requirement'])\n",
    "\n",
    "# ISO-3: Matrix\n",
    "iso2to3 =  { y['ISO2']:y['ISO3'] for _,y in country_data.iterrows() }\n",
    "matrix.rename(columns=iso2to3, index=iso2to3).to_csv('passport-index-matrix-iso3.csv', index_label='Passport')\n",
    "\n",
    "# ISO-3: Tidy\n",
    "matrix.rename(columns=iso2to3, index=iso2to3).stack().to_csv(\n",
    "    'passport-index-tidy-iso3.csv',\n",
    "    index_label=['Passport', 'Destination'],\n",
    "    header=['Requirement'])\n",
    "\n",
    "\n",
    "# Country names: Matrix\n",
    "iso2name =  { y['ISO2']:y['Country'] for _,y in country_data.iterrows() }\n",
    "matrix.rename(columns=iso2name, index=iso2name).to_csv('passport-index-matrix.csv', index_label='Passport')\n",
    "\n",
    "# Country names: Tidy\n",
    "matrix.rename(columns=iso2name, index=iso2name).stack().to_csv(\n",
    "    'passport-index-tidy.csv',\n",
    "    index_label=['Passport', 'Destination'],\n",
    "    header=['Requirement'])"
   ]
  },
  {
   "cell_type": "code",
   "execution_count": 54,
   "metadata": {},
   "outputs": [
    {
     "data": {
      "text/plain": [
       "visa required      13186\n",
       "90                  7647\n",
       "e-visa              7376\n",
       "visa on arrival     5910\n",
       "visa free           1883\n",
       "30                  1662\n",
       "180                  734\n",
       "120                  233\n",
       "-1                   199\n",
       "60                   192\n",
       "15                   113\n",
       "21                   106\n",
       "14                   104\n",
       "360                   97\n",
       "42                    60\n",
       "no admission          34\n",
       "28                    23\n",
       "240                   15\n",
       "45                    15\n",
       "10                     6\n",
       "7                      4\n",
       "150                    1\n",
       "31                     1\n",
       "Name: count, dtype: int64"
      ]
     },
     "execution_count": 54,
     "metadata": {},
     "output_type": "execute_result"
    }
   ],
   "source": [
    "# Print all values\n",
    "tidy = matrix.rename(columns=iso2to3, index=iso2to3).stack()\n",
    "tidy.value_counts()"
   ]
  },
  {
   "cell_type": "code",
   "execution_count": 56,
   "metadata": {},
   "outputs": [],
   "source": [
    "#tidy[tidy == \"Exit-entry Permit\"]"
   ]
  },
  {
   "cell_type": "code",
   "execution_count": 57,
   "metadata": {},
   "outputs": [
    {
     "data": {
      "text/plain": [
       "ARM  AZE    no admission\n",
       "BGD  IRQ    no admission\n",
       "     LBY    no admission\n",
       "HTI  SUR    no admission\n",
       "IRN  LBY    no admission\n",
       "ISR  DZA    no admission\n",
       "     BGD    no admission\n",
       "     BRN    no admission\n",
       "     IRN    no admission\n",
       "     LBN    no admission\n",
       "     LBY    no admission\n",
       "     MYS    no admission\n",
       "     PAK    no admission\n",
       "     SAU    no admission\n",
       "     SYR    no admission\n",
       "     YEM    no admission\n",
       "XKX  ARM    no admission\n",
       "     KHM    no admission\n",
       "     CUB    no admission\n",
       "     HKG    no admission\n",
       "     SYC    no admission\n",
       "PRK  JPN    no admission\n",
       "     LKA    no admission\n",
       "PAK  LBY    no admission\n",
       "PSE  MDG    no admission\n",
       "     SYR    no admission\n",
       "PHL  KWT    no admission\n",
       "SOM  AUS    no admission\n",
       "     CAN    no admission\n",
       "SDN  LBY    no admission\n",
       "SYR  LBY    no admission\n",
       "TWN  GEO    no admission\n",
       "TJK  KGZ    no admission\n",
       "YEM  LBY    no admission\n",
       "dtype: object"
      ]
     },
     "execution_count": 57,
     "metadata": {},
     "output_type": "execute_result"
    }
   ],
   "source": [
    "# Which countries have no admission? (Typically war zones etc)\n",
    "tidy[ tidy == 'no admission' ]"
   ]
  },
  {
   "cell_type": "code",
   "execution_count": 58,
   "metadata": {},
   "outputs": [],
   "source": [
    "assert tidy.loc[('BLR', 'RUS')] == '90', \"Check data!\""
   ]
  },
  {
   "cell_type": "markdown",
   "metadata": {},
   "source": [
    "### Difference with previous run\n",
    "* Typically the difference between two consecutive months would be in low hundreds.\n",
    "* If difference is higher, double-check the data!"
   ]
  },
  {
   "cell_type": "code",
   "execution_count": 59,
   "metadata": {},
   "outputs": [
    {
     "data": {
      "text/html": [
       "<div>\n",
       "<style scoped>\n",
       "    .dataframe tbody tr th:only-of-type {\n",
       "        vertical-align: middle;\n",
       "    }\n",
       "\n",
       "    .dataframe tbody tr th {\n",
       "        vertical-align: top;\n",
       "    }\n",
       "\n",
       "    .dataframe thead th {\n",
       "        text-align: right;\n",
       "    }\n",
       "</style>\n",
       "<table border=\"1\" class=\"dataframe\">\n",
       "  <thead>\n",
       "    <tr style=\"text-align: right;\">\n",
       "      <th></th>\n",
       "      <th>Passport</th>\n",
       "      <th>Destination</th>\n",
       "      <th>Requirement_new</th>\n",
       "      <th>Requirement_old</th>\n",
       "    </tr>\n",
       "  </thead>\n",
       "  <tbody>\n",
       "    <tr>\n",
       "      <th>160</th>\n",
       "      <td>AFG</td>\n",
       "      <td>SOM</td>\n",
       "      <td>e-visa</td>\n",
       "      <td>visa required</td>\n",
       "    </tr>\n",
       "    <tr>\n",
       "      <th>165</th>\n",
       "      <td>AFG</td>\n",
       "      <td>LKA</td>\n",
       "      <td>visa on arrival</td>\n",
       "      <td>e-visa</td>\n",
       "    </tr>\n",
       "    <tr>\n",
       "      <th>359</th>\n",
       "      <td>ALB</td>\n",
       "      <td>SOM</td>\n",
       "      <td>e-visa</td>\n",
       "      <td>visa required</td>\n",
       "    </tr>\n",
       "    <tr>\n",
       "      <th>364</th>\n",
       "      <td>ALB</td>\n",
       "      <td>LKA</td>\n",
       "      <td>visa on arrival</td>\n",
       "      <td>e-visa</td>\n",
       "    </tr>\n",
       "    <tr>\n",
       "      <th>495</th>\n",
       "      <td>DZA</td>\n",
       "      <td>LBY</td>\n",
       "      <td>visa free</td>\n",
       "      <td>e-visa</td>\n",
       "    </tr>\n",
       "    <tr>\n",
       "      <th>...</th>\n",
       "      <td>...</td>\n",
       "      <td>...</td>\n",
       "      <td>...</td>\n",
       "      <td>...</td>\n",
       "    </tr>\n",
       "    <tr>\n",
       "      <th>39245</th>\n",
       "      <td>ZMB</td>\n",
       "      <td>CUB</td>\n",
       "      <td>e-visa</td>\n",
       "      <td>visa required</td>\n",
       "    </tr>\n",
       "    <tr>\n",
       "      <th>39363</th>\n",
       "      <td>ZMB</td>\n",
       "      <td>SOM</td>\n",
       "      <td>e-visa</td>\n",
       "      <td>visa required</td>\n",
       "    </tr>\n",
       "    <tr>\n",
       "      <th>39368</th>\n",
       "      <td>ZMB</td>\n",
       "      <td>LKA</td>\n",
       "      <td>visa on arrival</td>\n",
       "      <td>e-visa</td>\n",
       "    </tr>\n",
       "    <tr>\n",
       "      <th>39562</th>\n",
       "      <td>ZWE</td>\n",
       "      <td>SOM</td>\n",
       "      <td>e-visa</td>\n",
       "      <td>visa required</td>\n",
       "    </tr>\n",
       "    <tr>\n",
       "      <th>39567</th>\n",
       "      <td>ZWE</td>\n",
       "      <td>LKA</td>\n",
       "      <td>visa on arrival</td>\n",
       "      <td>e-visa</td>\n",
       "    </tr>\n",
       "  </tbody>\n",
       "</table>\n",
       "<p>508 rows × 4 columns</p>\n",
       "</div>"
      ],
      "text/plain": [
       "      Passport Destination  Requirement_new Requirement_old\n",
       "160        AFG         SOM           e-visa   visa required\n",
       "165        AFG         LKA  visa on arrival          e-visa\n",
       "359        ALB         SOM           e-visa   visa required\n",
       "364        ALB         LKA  visa on arrival          e-visa\n",
       "495        DZA         LBY        visa free          e-visa\n",
       "...        ...         ...              ...             ...\n",
       "39245      ZMB         CUB           e-visa   visa required\n",
       "39363      ZMB         SOM           e-visa   visa required\n",
       "39368      ZMB         LKA  visa on arrival          e-visa\n",
       "39562      ZWE         SOM           e-visa   visa required\n",
       "39567      ZWE         LKA  visa on arrival          e-visa\n",
       "\n",
       "[508 rows x 4 columns]"
      ]
     },
     "execution_count": 59,
     "metadata": {},
     "output_type": "execute_result"
    }
   ],
   "source": [
    "x = (tidy\n",
    " .reset_index()\n",
    " .rename(\n",
    "     columns={'level_0': 'Passport', 'level_1': 'Destination', 0: 'Requirement'}\n",
    " )\n",
    " .merge(\n",
    "     pd.read_csv('legacy/2024-08-03/passport-index-tidy-iso3.csv'), # SELECT VERSION TO COMPARE!\n",
    "     how='left',\n",
    "     left_on=['Passport', 'Destination'],\n",
    "     right_on=['Passport', 'Destination'],\n",
    "     suffixes=('_new', '_old')\n",
    " )\n",
    " .assign(\n",
    "     is_different=lambda df_: df_.Requirement_old.ne(df_.Requirement_new)\n",
    " )\n",
    " .query('is_different & (Passport != Destination)')\n",
    " .drop(columns=['is_different'])\n",
    ")\n",
    "\n",
    "x"
   ]
  },
  {
   "cell_type": "code",
   "execution_count": 60,
   "metadata": {},
   "outputs": [
    {
     "data": {
      "text/html": [
       "<div>\n",
       "<style scoped>\n",
       "    .dataframe tbody tr th:only-of-type {\n",
       "        vertical-align: middle;\n",
       "    }\n",
       "\n",
       "    .dataframe tbody tr th {\n",
       "        vertical-align: top;\n",
       "    }\n",
       "\n",
       "    .dataframe thead th {\n",
       "        text-align: right;\n",
       "    }\n",
       "</style>\n",
       "<table border=\"1\" class=\"dataframe\">\n",
       "  <thead>\n",
       "    <tr style=\"text-align: right;\">\n",
       "      <th></th>\n",
       "      <th>Passport</th>\n",
       "      <th>Destination</th>\n",
       "      <th>Requirement_new</th>\n",
       "      <th>Requirement_old</th>\n",
       "    </tr>\n",
       "  </thead>\n",
       "  <tbody>\n",
       "    <tr>\n",
       "      <th>37454</th>\n",
       "      <td>GBR</td>\n",
       "      <td>CUB</td>\n",
       "      <td>e-visa</td>\n",
       "      <td>visa required</td>\n",
       "    </tr>\n",
       "    <tr>\n",
       "      <th>37484</th>\n",
       "      <td>GBR</td>\n",
       "      <td>HND</td>\n",
       "      <td>visa required</td>\n",
       "      <td>90</td>\n",
       "    </tr>\n",
       "    <tr>\n",
       "      <th>37577</th>\n",
       "      <td>GBR</td>\n",
       "      <td>LKA</td>\n",
       "      <td>visa on arrival</td>\n",
       "      <td>e-visa</td>\n",
       "    </tr>\n",
       "  </tbody>\n",
       "</table>\n",
       "</div>"
      ],
      "text/plain": [
       "      Passport Destination  Requirement_new Requirement_old\n",
       "37454      GBR         CUB           e-visa   visa required\n",
       "37484      GBR         HND    visa required              90\n",
       "37577      GBR         LKA  visa on arrival          e-visa"
      ]
     },
     "execution_count": 60,
     "metadata": {},
     "output_type": "execute_result"
    }
   ],
   "source": [
    "# What changed for the UK?\n",
    "x.query('Passport == \"GBR\"')"
   ]
  },
  {
   "cell_type": "code",
   "execution_count": 61,
   "metadata": {},
   "outputs": [
    {
     "data": {
      "text/html": [
       "<div>\n",
       "<style scoped>\n",
       "    .dataframe tbody tr th:only-of-type {\n",
       "        vertical-align: middle;\n",
       "    }\n",
       "\n",
       "    .dataframe tbody tr th {\n",
       "        vertical-align: top;\n",
       "    }\n",
       "\n",
       "    .dataframe thead th {\n",
       "        text-align: right;\n",
       "    }\n",
       "</style>\n",
       "<table border=\"1\" class=\"dataframe\">\n",
       "  <thead>\n",
       "    <tr style=\"text-align: right;\">\n",
       "      <th></th>\n",
       "      <th>Passport</th>\n",
       "      <th>Destination</th>\n",
       "      <th>Requirement_new</th>\n",
       "      <th>Requirement_old</th>\n",
       "    </tr>\n",
       "  </thead>\n",
       "  <tbody>\n",
       "    <tr>\n",
       "      <th>17301</th>\n",
       "      <td>JOR</td>\n",
       "      <td>GBR</td>\n",
       "      <td>visa required</td>\n",
       "      <td>e-visa</td>\n",
       "    </tr>\n",
       "  </tbody>\n",
       "</table>\n",
       "</div>"
      ],
      "text/plain": [
       "      Passport Destination Requirement_new Requirement_old\n",
       "17301      JOR         GBR   visa required          e-visa"
      ]
     },
     "execution_count": 61,
     "metadata": {},
     "output_type": "execute_result"
    }
   ],
   "source": [
    "x.query('Destination == \"GBR\"')"
   ]
  },
  {
   "cell_type": "code",
   "execution_count": null,
   "metadata": {},
   "outputs": [],
   "source": []
  }
 ],
 "metadata": {
  "kernelspec": {
   "display_name": "Python 3 (ipykernel)",
   "language": "python",
   "name": "python3"
  },
  "language_info": {
   "codemirror_mode": {
    "name": "ipython",
    "version": 3
   },
   "file_extension": ".py",
   "mimetype": "text/x-python",
   "name": "python",
   "nbconvert_exporter": "python",
   "pygments_lexer": "ipython3",
   "version": "3.11.5"
  }
 },
 "nbformat": 4,
 "nbformat_minor": 4
}
