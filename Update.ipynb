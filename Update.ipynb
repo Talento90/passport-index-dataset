{
 "cells": [
  {
   "cell_type": "markdown",
   "metadata": {},
   "source": [
    "# Generate Passport Index datasets\n",
    "* Data by Passport Index 2024: https://www.passportindex.org/\n",
    "* In both tidy and matrix formats\n",
    "* Using ISO-2, ISO-3, and full country names"
   ]
  },
  {
   "cell_type": "code",
   "execution_count": 1,
   "metadata": {},
   "outputs": [],
   "source": [
    "import pandas as pd\n",
    "import json\n",
    "import time\n",
    "\n",
    "# Load tqdm!\n",
    "from tqdm import tqdm\n",
    "tqdm.pandas()"
   ]
  },
  {
   "cell_type": "markdown",
   "metadata": {},
   "source": [
    "### In your browser,\n",
    "\n",
    "1. Navigate to https://www.passportindex.org/comparebyPassport.php?p1=sa&y1=2024\n",
    "1. Open Dev tools > Network\n",
    "1. Force-reload the page (e.g. Cmd+Shift+R)\n",
    "1. Find a POST request to *compare2.php*, right-click, and select 'Copy Value' -> 'Copy as cURL'\n",
    "1. Paste below"
   ]
  },
  {
   "cell_type": "code",
   "execution_count": 2,
   "metadata": {},
   "outputs": [],
   "source": [
    "curl_command = \"\"\"\n",
    "curl 'https://www.passportindex.org/incl/compare2.php' --compressed -X POST -H 'User-Agent: Mozilla/5.0 (Macintosh; Intel Mac OS X 10.15; rv:132.0) Gecko/20100101 Firefox/132.0' -H 'Accept: */*' -H 'Accept-Language: en-GB,en;q=0.5' -H 'Accept-Encoding: gzip, deflate, br, zstd' -H 'Content-Type: application/x-www-form-urlencoded; charset=UTF-8' -H 'X-Requested-With: XMLHttpRequest' -H 'Origin: https://www.passportindex.org' -H 'DNT: 1' -H 'Sec-GPC: 1' -H 'Alt-Used: www.passportindex.org' -H 'Connection: keep-alive' -H 'Referer: https://www.passportindex.org/comparebyPassport.php?p1=sa&y1=2024' -H 'Cookie: _ga_7Z48X951ET=GS1.1.1731362927.4.0.1731362932.0.0.0; _ga=GA1.1.982642551.1730071472; PHPSESSID=0833ebcdbd2b18a09ae244ed8b0328e8; cf_clearance=OTj93CXI79Dqe1kSamKHTFA.JH76B6ieNVRU8XPqep0-1731362927-1.2.1.1-P05yJ9K9vSiJrNbRHjQ3ZQaw_rX515yhbDgM3EXOqbYeKHOuVoAzv75RzrN.zKeccTACSiFrwvPirZYSi04cu7PssRtsA7_lSG9jfwFr7TijmN47NFnHujT49zbiNpRTxXEyh7kM7Fc7F5Oqf.Xe8TUKW37mqgdQLQ9XeH2fitHpk6.yIKF9UOHKFYrSAptfZ6XvlcP_4pT39IcJSrndwxKO_sqKHujE0yLCyg.SJtYVqa24J_oCUohIxE3YvPMlhuRrutnrCYfUc18uA34Orrt0skG7vNWotkT5.ypnqmRVgBV7A54lMefYty53xkdfEvBWC3hp4u4ykT0hJV4OFlFFL87rBZm4O6mN1rGuSyg' -H 'Sec-Fetch-Dest: empty' -H 'Sec-Fetch-Mode: cors' -H 'Sec-Fetch-Site: same-origin' -H 'TE: trailers' --data-raw 'compare=3&year=2024&cc=sa&csrf_token=3d9d37a001347533f8beca32b6764b458a17fe33ab7a568da7d5caf02b4df3a6'\n",
    "\"\"\""
   ]
  },
  {
   "cell_type": "code",
   "execution_count": 3,
   "metadata": {},
   "outputs": [],
   "source": [
    "# Read all country codes\n",
    "\n",
    "country_data = (\n",
    "    pd.read_csv(\n",
    "        'https://gist.githubusercontent.com/ilyankou/b2580c632bdea4af2309dcaa69860013/raw/420fb417bcd17d833156efdf64ce8a1c3ceb2691/country-codes',\n",
    "        dtype=str\n",
    "    )\n",
    "    .fillna('NA')\n",
    ")"
   ]
  },
  {
   "cell_type": "code",
   "execution_count": 4,
   "metadata": {},
   "outputs": [],
   "source": [
    "def get_data(country_code):\n",
    "\n",
    "    time.sleep(6.1)\n",
    "\n",
    "    curl_command_ = (curl_command\n",
    "                     .replace('curl ', 'curl -s ')\n",
    "                     .replace(', br, zstd', '')\n",
    "                     .replace('cc=sa', f'cc={str.lower(country_code)}')\n",
    "                    )\n",
    "\n",
    "    res = !{curl_command_}\n",
    "    return json.loads(res[0])"
   ]
  },
  {
   "cell_type": "code",
   "execution_count": 5,
   "metadata": {},
   "outputs": [
    {
     "name": "stderr",
     "output_type": "stream",
     "text": [
      "100%|█████████████████████████████████████████| 199/199 [21:43<00:00,  6.55s/it]\n"
     ]
    }
   ],
   "source": [
    "country_data['travel'] = country_data.ISO2.progress_apply(get_data)"
   ]
  },
  {
   "cell_type": "markdown",
   "metadata": {},
   "source": [
    "## Get data from PassportIndex"
   ]
  },
  {
   "cell_type": "code",
   "execution_count": 6,
   "metadata": {},
   "outputs": [],
   "source": [
    "assert country_data['travel'].isna().sum() == 0, \\\n",
    "    f\"Didn't fetch {country_data['travel'].isna().sum()} rows!\""
   ]
  },
  {
   "cell_type": "markdown",
   "metadata": {},
   "source": [
    "## Clean up the data"
   ]
  },
  {
   "cell_type": "code",
   "execution_count": 7,
   "metadata": {},
   "outputs": [],
   "source": [
    "obj = {}\n",
    "\n",
    "for passport in country_data.ISO2.tolist():\n",
    "    \n",
    "    # Add passport to the object\n",
    "    if passport not in obj:\n",
    "        obj[passport] = {}\n",
    "    \n",
    "    # Add destinations for the given passport\n",
    "    for dest in country_data.query(f'ISO2 == \"{passport}\"').iloc[0]['travel']:\n",
    "        \n",
    "        text = dest['text'].lower()\n",
    "        res = ''\n",
    "        \n",
    "        # ** Visa required, incl Cuba's tourist card or China's Exit Entry Permit for Macau/HK **\n",
    "        if text == 'visa required' or text == 'tourist card' or text == 'exit-entry permit':\n",
    "            res = 'visa required'\n",
    "        \n",
    "        # ** Visa on arrival **\n",
    "        elif 'visa on arrival' in text:\n",
    "            res = 'visa on arrival'\n",
    "            \n",
    "        # ** Covid-19 ban ** \n",
    "        elif text == 'covid-19 ban':\n",
    "            res = 'covid ban'\n",
    "            \n",
    "        # ** Visa-free, incl. Seychelles' tourist registration **\n",
    "        elif 'visa-free' in text or 'tourist registration' in text or 'visa waiver' in text:\n",
    "            res = dest['dur'] if dest['dur'] != '' else 'visa free'\n",
    "            \n",
    "        # ** eVisas, incl eVisitors (Australia), eTourist cards (Suriname),\n",
    "        # eTA (US), and pre-enrollment (Ivory Coast), or EVW (UK) **\n",
    "        elif 'evis' in text or 'etourist' in text or text == 'eta' or text == 'pre-enrollment' or text == 'evw':\n",
    "            res = 'e-visa'\n",
    "            \n",
    "        # ** No admission, including Trump ban **\n",
    "        elif text == 'trump ban' or text == 'not admitted':\n",
    "            res = 'no admission'\n",
    "\n",
    "        elif 'arrival card' in text or 'e-ticket' in text:\n",
    "            res = 'visa free'\n",
    "        \n",
    "        # Update the result!\n",
    "        obj[passport][ dest['code'] ] = res if res != '' else dest['text']"
   ]
  },
  {
   "cell_type": "code",
   "execution_count": 8,
   "metadata": {},
   "outputs": [
    {
     "name": "stdout",
     "output_type": "stream",
     "text": [
      "0 AFG\n",
      "1 ALB\n",
      "2 DZA\n",
      "3 AND\n",
      "4 AGO\n"
     ]
    }
   ],
   "source": [
    "for x, y in country_data.head(5).iterrows():\n",
    "    print(x, y['ISO3'])"
   ]
  },
  {
   "cell_type": "markdown",
   "metadata": {},
   "source": [
    "## Save"
   ]
  },
  {
   "cell_type": "code",
   "execution_count": 9,
   "metadata": {},
   "outputs": [],
   "source": [
    "# ISO-2: Matrix\n",
    "matrix = pd.DataFrame(obj).T.fillna(-1)\n",
    "matrix.to_csv('passport-index-matrix-iso2.csv', index_label='Passport')\n",
    "\n",
    "# ISO-2: Tidy\n",
    "matrix.stack().to_csv(\n",
    "    'passport-index-tidy-iso2.csv',\n",
    "    index_label=['Passport', 'Destination'],\n",
    "    header=['Requirement'])\n",
    "\n",
    "# ISO-3: Matrix\n",
    "iso2to3 =  { y['ISO2']:y['ISO3'] for _,y in country_data.iterrows() }\n",
    "matrix.rename(columns=iso2to3, index=iso2to3).to_csv('passport-index-matrix-iso3.csv', index_label='Passport')\n",
    "\n",
    "# ISO-3: Tidy\n",
    "matrix.rename(columns=iso2to3, index=iso2to3).stack().to_csv(\n",
    "    'passport-index-tidy-iso3.csv',\n",
    "    index_label=['Passport', 'Destination'],\n",
    "    header=['Requirement'])\n",
    "\n",
    "\n",
    "# Country names: Matrix\n",
    "iso2name =  { y['ISO2']:y['Country'] for _,y in country_data.iterrows() }\n",
    "matrix.rename(columns=iso2name, index=iso2name).to_csv('passport-index-matrix.csv', index_label='Passport')\n",
    "\n",
    "# Country names: Tidy\n",
    "matrix.rename(columns=iso2name, index=iso2name).stack().to_csv(\n",
    "    'passport-index-tidy.csv',\n",
    "    index_label=['Passport', 'Destination'],\n",
    "    header=['Requirement'])"
   ]
  },
  {
   "cell_type": "code",
   "execution_count": 10,
   "metadata": {},
   "outputs": [
    {
     "data": {
      "text/plain": [
       "visa required      13178\n",
       "90                  7648\n",
       "e-visa              7374\n",
       "visa on arrival     5911\n",
       "visa free           1883\n",
       "30                  1659\n",
       "180                  734\n",
       "120                  233\n",
       "-1                   199\n",
       "60                   192\n",
       "15                   122\n",
       "14                   106\n",
       "21                   106\n",
       "360                   97\n",
       "42                    60\n",
       "no admission          34\n",
       "28                    23\n",
       "240                   15\n",
       "45                    15\n",
       "10                     6\n",
       "7                      4\n",
       "150                    1\n",
       "31                     1\n",
       "Name: count, dtype: int64"
      ]
     },
     "execution_count": 10,
     "metadata": {},
     "output_type": "execute_result"
    }
   ],
   "source": [
    "# Print all values\n",
    "tidy = matrix.rename(columns=iso2to3, index=iso2to3).stack()\n",
    "tidy.value_counts()"
   ]
  },
  {
   "cell_type": "code",
   "execution_count": 11,
   "metadata": {},
   "outputs": [],
   "source": [
    "#tidy[tidy == \"Exit-entry Permit\"]"
   ]
  },
  {
   "cell_type": "code",
   "execution_count": 12,
   "metadata": {},
   "outputs": [
    {
     "data": {
      "text/plain": [
       "ARM  AZE    no admission\n",
       "BGD  IRQ    no admission\n",
       "     LBY    no admission\n",
       "HTI  SUR    no admission\n",
       "IRN  LBY    no admission\n",
       "ISR  DZA    no admission\n",
       "     BGD    no admission\n",
       "     BRN    no admission\n",
       "     IRN    no admission\n",
       "     LBN    no admission\n",
       "     LBY    no admission\n",
       "     MYS    no admission\n",
       "     PAK    no admission\n",
       "     SAU    no admission\n",
       "     SYR    no admission\n",
       "     YEM    no admission\n",
       "XKX  ARM    no admission\n",
       "     KHM    no admission\n",
       "     CUB    no admission\n",
       "     HKG    no admission\n",
       "     SYC    no admission\n",
       "PRK  JPN    no admission\n",
       "     LKA    no admission\n",
       "PAK  LBY    no admission\n",
       "PSE  MDG    no admission\n",
       "     SYR    no admission\n",
       "PHL  KWT    no admission\n",
       "SOM  AUS    no admission\n",
       "     CAN    no admission\n",
       "SDN  LBY    no admission\n",
       "SYR  LBY    no admission\n",
       "TWN  GEO    no admission\n",
       "TJK  KGZ    no admission\n",
       "YEM  LBY    no admission\n",
       "dtype: object"
      ]
     },
     "execution_count": 12,
     "metadata": {},
     "output_type": "execute_result"
    }
   ],
   "source": [
    "# Which countries have no admission? (Typically war zones etc)\n",
    "tidy[ tidy == 'no admission' ]"
   ]
  },
  {
   "cell_type": "code",
   "execution_count": 13,
   "metadata": {},
   "outputs": [],
   "source": [
    "assert tidy.loc[('BLR', 'RUS')] == '90', \"Check data!\""
   ]
  },
  {
   "cell_type": "markdown",
   "metadata": {},
   "source": [
    "### Difference with previous run\n",
    "* Typically the difference between two consecutive months would be in low hundreds.\n",
    "* If difference is higher, double-check the data!"
   ]
  },
  {
   "cell_type": "code",
   "execution_count": 14,
   "metadata": {},
   "outputs": [
    {
     "data": {
      "text/html": [
       "<div>\n",
       "<style scoped>\n",
       "    .dataframe tbody tr th:only-of-type {\n",
       "        vertical-align: middle;\n",
       "    }\n",
       "\n",
       "    .dataframe tbody tr th {\n",
       "        vertical-align: top;\n",
       "    }\n",
       "\n",
       "    .dataframe thead th {\n",
       "        text-align: right;\n",
       "    }\n",
       "</style>\n",
       "<table border=\"1\" class=\"dataframe\">\n",
       "  <thead>\n",
       "    <tr style=\"text-align: right;\">\n",
       "      <th></th>\n",
       "      <th>Passport</th>\n",
       "      <th>Destination</th>\n",
       "      <th>Requirement_new</th>\n",
       "      <th>Requirement_old</th>\n",
       "    </tr>\n",
       "  </thead>\n",
       "  <tbody>\n",
       "    <tr>\n",
       "      <th>631</th>\n",
       "      <td>AND</td>\n",
       "      <td>CHN</td>\n",
       "      <td>15</td>\n",
       "      <td>visa required</td>\n",
       "    </tr>\n",
       "    <tr>\n",
       "      <th>683</th>\n",
       "      <td>AND</td>\n",
       "      <td>KAZ</td>\n",
       "      <td>90</td>\n",
       "      <td>e-visa</td>\n",
       "    </tr>\n",
       "    <tr>\n",
       "      <th>1509</th>\n",
       "      <td>ARM</td>\n",
       "      <td>MNE</td>\n",
       "      <td>visa required</td>\n",
       "      <td>30</td>\n",
       "    </tr>\n",
       "    <tr>\n",
       "      <th>9188</th>\n",
       "      <td>DNK</td>\n",
       "      <td>CHN</td>\n",
       "      <td>15</td>\n",
       "      <td>visa required</td>\n",
       "    </tr>\n",
       "    <tr>\n",
       "      <th>11775</th>\n",
       "      <td>FIN</td>\n",
       "      <td>CHN</td>\n",
       "      <td>15</td>\n",
       "      <td>visa required</td>\n",
       "    </tr>\n",
       "    <tr>\n",
       "      <th>15158</th>\n",
       "      <td>ISL</td>\n",
       "      <td>CHN</td>\n",
       "      <td>15</td>\n",
       "      <td>visa required</td>\n",
       "    </tr>\n",
       "    <tr>\n",
       "      <th>17414</th>\n",
       "      <td>KAZ</td>\n",
       "      <td>MAC</td>\n",
       "      <td>14</td>\n",
       "      <td>visa on arrival</td>\n",
       "    </tr>\n",
       "    <tr>\n",
       "      <th>17429</th>\n",
       "      <td>KAZ</td>\n",
       "      <td>MNE</td>\n",
       "      <td>visa required</td>\n",
       "      <td>30</td>\n",
       "    </tr>\n",
       "    <tr>\n",
       "      <th>19587</th>\n",
       "      <td>LBY</td>\n",
       "      <td>JOR</td>\n",
       "      <td>visa on arrival</td>\n",
       "      <td>visa required</td>\n",
       "    </tr>\n",
       "    <tr>\n",
       "      <th>19735</th>\n",
       "      <td>LIE</td>\n",
       "      <td>CHN</td>\n",
       "      <td>15</td>\n",
       "      <td>visa required</td>\n",
       "    </tr>\n",
       "    <tr>\n",
       "      <th>20384</th>\n",
       "      <td>MAC</td>\n",
       "      <td>KAZ</td>\n",
       "      <td>14</td>\n",
       "      <td>e-visa</td>\n",
       "    </tr>\n",
       "    <tr>\n",
       "      <th>22919</th>\n",
       "      <td>MCO</td>\n",
       "      <td>CHN</td>\n",
       "      <td>15</td>\n",
       "      <td>visa required</td>\n",
       "    </tr>\n",
       "    <tr>\n",
       "      <th>26103</th>\n",
       "      <td>NOR</td>\n",
       "      <td>CHN</td>\n",
       "      <td>15</td>\n",
       "      <td>visa required</td>\n",
       "    </tr>\n",
       "    <tr>\n",
       "      <th>27641</th>\n",
       "      <td>PRY</td>\n",
       "      <td>TTO</td>\n",
       "      <td>visa on arrival</td>\n",
       "      <td>visa required</td>\n",
       "    </tr>\n",
       "    <tr>\n",
       "      <th>30364</th>\n",
       "      <td>SAU</td>\n",
       "      <td>MNE</td>\n",
       "      <td>visa required</td>\n",
       "      <td>30</td>\n",
       "    </tr>\n",
       "    <tr>\n",
       "      <th>31476</th>\n",
       "      <td>SVK</td>\n",
       "      <td>CHN</td>\n",
       "      <td>15</td>\n",
       "      <td>visa required</td>\n",
       "    </tr>\n",
       "    <tr>\n",
       "      <th>32471</th>\n",
       "      <td>KOR</td>\n",
       "      <td>CHN</td>\n",
       "      <td>15</td>\n",
       "      <td>visa required</td>\n",
       "    </tr>\n",
       "  </tbody>\n",
       "</table>\n",
       "</div>"
      ],
      "text/plain": [
       "      Passport Destination  Requirement_new  Requirement_old\n",
       "631        AND         CHN               15    visa required\n",
       "683        AND         KAZ               90           e-visa\n",
       "1509       ARM         MNE    visa required               30\n",
       "9188       DNK         CHN               15    visa required\n",
       "11775      FIN         CHN               15    visa required\n",
       "15158      ISL         CHN               15    visa required\n",
       "17414      KAZ         MAC               14  visa on arrival\n",
       "17429      KAZ         MNE    visa required               30\n",
       "19587      LBY         JOR  visa on arrival    visa required\n",
       "19735      LIE         CHN               15    visa required\n",
       "20384      MAC         KAZ               14           e-visa\n",
       "22919      MCO         CHN               15    visa required\n",
       "26103      NOR         CHN               15    visa required\n",
       "27641      PRY         TTO  visa on arrival    visa required\n",
       "30364      SAU         MNE    visa required               30\n",
       "31476      SVK         CHN               15    visa required\n",
       "32471      KOR         CHN               15    visa required"
      ]
     },
     "execution_count": 14,
     "metadata": {},
     "output_type": "execute_result"
    }
   ],
   "source": [
    "x = (tidy\n",
    " .reset_index()\n",
    " .rename(\n",
    "     columns={'level_0': 'Passport', 'level_1': 'Destination', 0: 'Requirement'}\n",
    " )\n",
    " .merge(\n",
    "     pd.read_csv('legacy/2024-10-28/passport-index-tidy-iso3.csv'), # SELECT VERSION TO COMPARE!\n",
    "     how='left',\n",
    "     left_on=['Passport', 'Destination'],\n",
    "     right_on=['Passport', 'Destination'],\n",
    "     suffixes=('_new', '_old')\n",
    " )\n",
    " .assign(\n",
    "     is_different=lambda df_: df_.Requirement_old.ne(df_.Requirement_new)\n",
    " )\n",
    " .query('is_different & (Passport != Destination)')\n",
    " .drop(columns=['is_different'])\n",
    ")\n",
    "\n",
    "x"
   ]
  },
  {
   "cell_type": "code",
   "execution_count": 15,
   "metadata": {},
   "outputs": [
    {
     "data": {
      "text/html": [
       "<div>\n",
       "<style scoped>\n",
       "    .dataframe tbody tr th:only-of-type {\n",
       "        vertical-align: middle;\n",
       "    }\n",
       "\n",
       "    .dataframe tbody tr th {\n",
       "        vertical-align: top;\n",
       "    }\n",
       "\n",
       "    .dataframe thead th {\n",
       "        text-align: right;\n",
       "    }\n",
       "</style>\n",
       "<table border=\"1\" class=\"dataframe\">\n",
       "  <thead>\n",
       "    <tr style=\"text-align: right;\">\n",
       "      <th></th>\n",
       "      <th>Passport</th>\n",
       "      <th>Destination</th>\n",
       "      <th>Requirement_new</th>\n",
       "      <th>Requirement_old</th>\n",
       "    </tr>\n",
       "  </thead>\n",
       "  <tbody>\n",
       "  </tbody>\n",
       "</table>\n",
       "</div>"
      ],
      "text/plain": [
       "Empty DataFrame\n",
       "Columns: [Passport, Destination, Requirement_new, Requirement_old]\n",
       "Index: []"
      ]
     },
     "execution_count": 15,
     "metadata": {},
     "output_type": "execute_result"
    }
   ],
   "source": [
    "# What changed for the UK?\n",
    "x.query('Passport == \"GBR\"')"
   ]
  },
  {
   "cell_type": "code",
   "execution_count": 16,
   "metadata": {},
   "outputs": [
    {
     "data": {
      "text/html": [
       "<div>\n",
       "<style scoped>\n",
       "    .dataframe tbody tr th:only-of-type {\n",
       "        vertical-align: middle;\n",
       "    }\n",
       "\n",
       "    .dataframe tbody tr th {\n",
       "        vertical-align: top;\n",
       "    }\n",
       "\n",
       "    .dataframe thead th {\n",
       "        text-align: right;\n",
       "    }\n",
       "</style>\n",
       "<table border=\"1\" class=\"dataframe\">\n",
       "  <thead>\n",
       "    <tr style=\"text-align: right;\">\n",
       "      <th></th>\n",
       "      <th>Passport</th>\n",
       "      <th>Destination</th>\n",
       "      <th>Requirement_new</th>\n",
       "      <th>Requirement_old</th>\n",
       "    </tr>\n",
       "  </thead>\n",
       "  <tbody>\n",
       "  </tbody>\n",
       "</table>\n",
       "</div>"
      ],
      "text/plain": [
       "Empty DataFrame\n",
       "Columns: [Passport, Destination, Requirement_new, Requirement_old]\n",
       "Index: []"
      ]
     },
     "execution_count": 16,
     "metadata": {},
     "output_type": "execute_result"
    }
   ],
   "source": [
    "x.query('Destination == \"GBR\"')"
   ]
  },
  {
   "cell_type": "code",
   "execution_count": null,
   "metadata": {},
   "outputs": [],
   "source": []
  }
 ],
 "metadata": {
  "kernelspec": {
   "display_name": "Python 3 (ipykernel)",
   "language": "python",
   "name": "python3"
  },
  "language_info": {
   "codemirror_mode": {
    "name": "ipython",
    "version": 3
   },
   "file_extension": ".py",
   "mimetype": "text/x-python",
   "name": "python",
   "nbconvert_exporter": "python",
   "pygments_lexer": "ipython3",
   "version": "3.11.5"
  }
 },
 "nbformat": 4,
 "nbformat_minor": 4
}
